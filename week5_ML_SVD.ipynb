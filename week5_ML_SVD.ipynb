{
  "nbformat": 4,
  "nbformat_minor": 0,
  "metadata": {
    "colab": {
      "name": "week5_ML_SVD.ipynb",
      "provenance": [],
      "collapsed_sections": [],
      "authorship_tag": "ABX9TyPExFsf0ETu6pKjhtoOLbAB",
      "include_colab_link": true
    },
    "kernelspec": {
      "name": "python3",
      "display_name": "Python 3"
    },
    "language_info": {
      "name": "python"
    }
  },
  "cells": [
    {
      "cell_type": "markdown",
      "metadata": {
        "id": "view-in-github",
        "colab_type": "text"
      },
      "source": [
        "<a href=\"https://colab.research.google.com/github/hanatar/Machine_Learning/blob/main/week5_ML_SVD.ipynb\" target=\"_parent\"><img src=\"https://colab.research.google.com/assets/colab-badge.svg\" alt=\"Open In Colab\"/></a>"
      ]
    },
    {
      "cell_type": "code",
      "metadata": {
        "id": "apE4nFnJko6E"
      },
      "source": [
        "#import linier algebra, eigen value, eigen vector, normalized the vectors\n",
        "import numpy as np\n",
        "from numpy.linalg import eigh, norm"
      ],
      "execution_count": 1,
      "outputs": []
    },
    {
      "cell_type": "code",
      "metadata": {
        "id": "AbYHth9ykviZ"
      },
      "source": [
        "#matriks ukuran mxn\n",
        "A=np.array([[-5, 2, 3], [2, 5, 1], [-3, 1, -5]])"
      ],
      "execution_count": 2,
      "outputs": []
    },
    {
      "cell_type": "code",
      "metadata": {
        "colab": {
          "base_uri": "https://localhost:8080/"
        },
        "id": "W1WLIJq-kxi_",
        "outputId": "dcb500f4-6a3a-4735-aa05-1f7473995e3e"
      },
      "source": [
        "A.T@A"
      ],
      "execution_count": 3,
      "outputs": [
        {
          "output_type": "execute_result",
          "data": {
            "text/plain": [
              "array([[38, -3,  2],\n",
              "       [-3, 30,  6],\n",
              "       [ 2,  6, 35]])"
            ]
          },
          "metadata": {},
          "execution_count": 3
        }
      ]
    },
    {
      "cell_type": "code",
      "metadata": {
        "colab": {
          "base_uri": "https://localhost:8080/"
        },
        "id": "b3JvC8Hzk0Ie",
        "outputId": "9e717481-ab4d-455f-e7e0-4638c144a71b"
      },
      "source": [
        "#eigen values & V\n",
        "eigh(A.T@A)"
      ],
      "execution_count": 4,
      "outputs": [
        {
          "output_type": "execute_result",
          "data": {
            "text/plain": [
              "(array([25., 39., 39.]), array([[ 0.26726124, -0.96362411,  0.        ],\n",
              "        [ 0.80178373,  0.22237479,  0.5547002 ],\n",
              "        [-0.53452248, -0.14824986,  0.83205029]]))"
            ]
          },
          "metadata": {},
          "execution_count": 4
        }
      ]
    },
    {
      "cell_type": "code",
      "metadata": {
        "id": "YmmExl-8k2vp"
      },
      "source": [
        "ev, V =eigh(A.T@A)"
      ],
      "execution_count": 5,
      "outputs": []
    },
    {
      "cell_type": "code",
      "metadata": {
        "colab": {
          "base_uri": "https://localhost:8080/"
        },
        "id": "tWLXBfHlk4_v",
        "outputId": "4a3fdcb5-d484-4e91-8ebf-a95422767bf7"
      },
      "source": [
        "V"
      ],
      "execution_count": 6,
      "outputs": [
        {
          "output_type": "execute_result",
          "data": {
            "text/plain": [
              "array([[ 0.26726124, -0.96362411,  0.        ],\n",
              "       [ 0.80178373,  0.22237479,  0.5547002 ],\n",
              "       [-0.53452248, -0.14824986,  0.83205029]])"
            ]
          },
          "metadata": {},
          "execution_count": 6
        }
      ]
    },
    {
      "cell_type": "code",
      "metadata": {
        "colab": {
          "base_uri": "https://localhost:8080/"
        },
        "id": "n0_zrJPmk45z",
        "outputId": "2c468d6a-1c56-41c9-fd91-31e5433eccee"
      },
      "source": [
        "V[0]"
      ],
      "execution_count": 7,
      "outputs": [
        {
          "output_type": "execute_result",
          "data": {
            "text/plain": [
              "array([ 0.26726124, -0.96362411,  0.        ])"
            ]
          },
          "metadata": {},
          "execution_count": 7
        }
      ]
    },
    {
      "cell_type": "code",
      "metadata": {
        "colab": {
          "base_uri": "https://localhost:8080/"
        },
        "id": "YjpFDPOVlAOk",
        "outputId": "ca7c794d-4d0b-40e5-bc09-29fcf3efbeef"
      },
      "source": [
        "V[:,0]"
      ],
      "execution_count": 8,
      "outputs": [
        {
          "output_type": "execute_result",
          "data": {
            "text/plain": [
              "array([ 0.26726124,  0.80178373, -0.53452248])"
            ]
          },
          "metadata": {},
          "execution_count": 8
        }
      ]
    },
    {
      "cell_type": "code",
      "metadata": {
        "id": "9yPI4yYplESP"
      },
      "source": [
        "u0= A@V[:,0]/norm(A@V[:,0])\n",
        "u1= A@V[:,1]/norm(A@V[:,1])\n",
        "u2= A@V[:,2]/norm(A@V[:,2])"
      ],
      "execution_count": 9,
      "outputs": []
    },
    {
      "cell_type": "code",
      "metadata": {
        "id": "bFf36WSblGkX"
      },
      "source": [
        "U=np.array([u0,u1,u2]).T"
      ],
      "execution_count": 10,
      "outputs": []
    },
    {
      "cell_type": "code",
      "metadata": {
        "colab": {
          "base_uri": "https://localhost:8080/"
        },
        "id": "J9u9pjxvlIj3",
        "outputId": "ebe3f0d1-6cc3-4030-987b-2a9021d83295"
      },
      "source": [
        "U.T@A@V"
      ],
      "execution_count": 11,
      "outputs": [
        {
          "output_type": "execute_result",
          "data": {
            "text/plain": [
              "array([[ 5.00000000e+00,  4.61927558e-17, -5.80878766e-17],\n",
              "       [-3.24483433e-16,  6.24499800e+00,  1.06687423e-16],\n",
              "       [-2.24630037e-16, -1.28454465e-17,  6.24499800e+00]])"
            ]
          },
          "metadata": {},
          "execution_count": 11
        }
      ]
    },
    {
      "cell_type": "code",
      "metadata": {
        "colab": {
          "base_uri": "https://localhost:8080/"
        },
        "id": "1L4WT5K2lK2S",
        "outputId": "1b942426-002e-4e0d-de21-bf85dec8d952"
      },
      "source": [
        "#pembulatan\n",
        "np.round(U.T@A@V, decimals=5)"
      ],
      "execution_count": 12,
      "outputs": [
        {
          "output_type": "execute_result",
          "data": {
            "text/plain": [
              "array([[ 5.   ,  0.   , -0.   ],\n",
              "       [-0.   ,  6.245,  0.   ],\n",
              "       [-0.   , -0.   ,  6.245]])"
            ]
          },
          "metadata": {},
          "execution_count": 12
        }
      ]
    }
  ]
}