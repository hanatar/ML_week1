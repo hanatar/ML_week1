{
  "nbformat": 4,
  "nbformat_minor": 0,
  "metadata": {
    "colab": {
      "name": "Untitled0.ipynb",
      "provenance": [],
      "mount_file_id": "1Y7iC7ge4CuPtI4TSrbYo6LJvbreN1dQ3",
      "authorship_tag": "ABX9TyN12eKiNXQlw++NgRjRme8n",
      "include_colab_link": true
    },
    "kernelspec": {
      "name": "python3",
      "display_name": "Python 3"
    },
    "language_info": {
      "name": "python"
    }
  },
  "cells": [
    {
      "cell_type": "markdown",
      "metadata": {
        "id": "view-in-github",
        "colab_type": "text"
      },
      "source": [
        "<a href=\"https://colab.research.google.com/github/hanatar/ML_week1/blob/main/Untitled0.ipynb\" target=\"_parent\"><img src=\"https://colab.research.google.com/assets/colab-badge.svg\" alt=\"Open In Colab\"/></a>"
      ]
    },
    {
      "cell_type": "code",
      "metadata": {
        "id": "OG5jfl-I38tW"
      },
      "source": [
        "import pandas as pd"
      ],
      "execution_count": 13,
      "outputs": []
    },
    {
      "cell_type": "code",
      "metadata": {
        "colab": {
          "base_uri": "https://localhost:8080/"
        },
        "id": "x3Ib9pZK0Xnh",
        "outputId": "d70e9147-a918-4463-bcd6-5bb3eb3cd385"
      },
      "source": [
        "from google.colab import drive\n",
        "drive.mount('/content/gdrive')"
      ],
      "execution_count": 14,
      "outputs": [
        {
          "output_type": "stream",
          "name": "stdout",
          "text": [
            "Mounted at /content/gdrive\n"
          ]
        }
      ]
    },
    {
      "cell_type": "markdown",
      "metadata": {
        "id": "0lVYFQiG5XpV"
      },
      "source": [
        "2. basic data exploration"
      ]
    },
    {
      "cell_type": "code",
      "metadata": {
        "colab": {
          "base_uri": "https://localhost:8080/",
          "height": 317
        },
        "id": "4SVr0J2o3ZQo",
        "outputId": "0a5a40d0-6674-44e1-eb21-45e8791d48b2"
      },
      "source": [
        "# save filepath to variable for easier access\n",
        "melbourne_file_path = '../content/gdrive/My Drive/dataset/melb_data.csv'\n",
        "# read the data and store data in DataFrame titled melbourne_data\n",
        "melbourne_data = pd.read_csv(melbourne_file_path)\n",
        "# print a summary of the data in Melbourne data\n",
        "melbourne_data.describe()"
      ],
      "execution_count": 16,
      "outputs": [
        {
          "output_type": "execute_result",
          "data": {
            "text/html": [
              "<div>\n",
              "<style scoped>\n",
              "    .dataframe tbody tr th:only-of-type {\n",
              "        vertical-align: middle;\n",
              "    }\n",
              "\n",
              "    .dataframe tbody tr th {\n",
              "        vertical-align: top;\n",
              "    }\n",
              "\n",
              "    .dataframe thead th {\n",
              "        text-align: right;\n",
              "    }\n",
              "</style>\n",
              "<table border=\"1\" class=\"dataframe\">\n",
              "  <thead>\n",
              "    <tr style=\"text-align: right;\">\n",
              "      <th></th>\n",
              "      <th>Rooms</th>\n",
              "      <th>Price</th>\n",
              "      <th>Distance</th>\n",
              "      <th>Postcode</th>\n",
              "      <th>Bedroom2</th>\n",
              "      <th>Bathroom</th>\n",
              "      <th>Car</th>\n",
              "      <th>Landsize</th>\n",
              "      <th>BuildingArea</th>\n",
              "      <th>YearBuilt</th>\n",
              "      <th>Lattitude</th>\n",
              "      <th>Longtitude</th>\n",
              "      <th>Propertycount</th>\n",
              "    </tr>\n",
              "  </thead>\n",
              "  <tbody>\n",
              "    <tr>\n",
              "      <th>count</th>\n",
              "      <td>13580.000000</td>\n",
              "      <td>1.358000e+04</td>\n",
              "      <td>13580.000000</td>\n",
              "      <td>13580.000000</td>\n",
              "      <td>13580.000000</td>\n",
              "      <td>13580.000000</td>\n",
              "      <td>13518.000000</td>\n",
              "      <td>13580.000000</td>\n",
              "      <td>7130.000000</td>\n",
              "      <td>8205.000000</td>\n",
              "      <td>13580.000000</td>\n",
              "      <td>13580.000000</td>\n",
              "      <td>13580.000000</td>\n",
              "    </tr>\n",
              "    <tr>\n",
              "      <th>mean</th>\n",
              "      <td>2.937997</td>\n",
              "      <td>1.075684e+06</td>\n",
              "      <td>10.137776</td>\n",
              "      <td>3105.301915</td>\n",
              "      <td>2.914728</td>\n",
              "      <td>1.534242</td>\n",
              "      <td>1.610075</td>\n",
              "      <td>558.416127</td>\n",
              "      <td>151.967650</td>\n",
              "      <td>1964.684217</td>\n",
              "      <td>-37.809203</td>\n",
              "      <td>144.995216</td>\n",
              "      <td>7454.417378</td>\n",
              "    </tr>\n",
              "    <tr>\n",
              "      <th>std</th>\n",
              "      <td>0.955748</td>\n",
              "      <td>6.393107e+05</td>\n",
              "      <td>5.868725</td>\n",
              "      <td>90.676964</td>\n",
              "      <td>0.965921</td>\n",
              "      <td>0.691712</td>\n",
              "      <td>0.962634</td>\n",
              "      <td>3990.669241</td>\n",
              "      <td>541.014538</td>\n",
              "      <td>37.273762</td>\n",
              "      <td>0.079260</td>\n",
              "      <td>0.103916</td>\n",
              "      <td>4378.581772</td>\n",
              "    </tr>\n",
              "    <tr>\n",
              "      <th>min</th>\n",
              "      <td>1.000000</td>\n",
              "      <td>8.500000e+04</td>\n",
              "      <td>0.000000</td>\n",
              "      <td>3000.000000</td>\n",
              "      <td>0.000000</td>\n",
              "      <td>0.000000</td>\n",
              "      <td>0.000000</td>\n",
              "      <td>0.000000</td>\n",
              "      <td>0.000000</td>\n",
              "      <td>1196.000000</td>\n",
              "      <td>-38.182550</td>\n",
              "      <td>144.431810</td>\n",
              "      <td>249.000000</td>\n",
              "    </tr>\n",
              "    <tr>\n",
              "      <th>25%</th>\n",
              "      <td>2.000000</td>\n",
              "      <td>6.500000e+05</td>\n",
              "      <td>6.100000</td>\n",
              "      <td>3044.000000</td>\n",
              "      <td>2.000000</td>\n",
              "      <td>1.000000</td>\n",
              "      <td>1.000000</td>\n",
              "      <td>177.000000</td>\n",
              "      <td>93.000000</td>\n",
              "      <td>1940.000000</td>\n",
              "      <td>-37.856822</td>\n",
              "      <td>144.929600</td>\n",
              "      <td>4380.000000</td>\n",
              "    </tr>\n",
              "    <tr>\n",
              "      <th>50%</th>\n",
              "      <td>3.000000</td>\n",
              "      <td>9.030000e+05</td>\n",
              "      <td>9.200000</td>\n",
              "      <td>3084.000000</td>\n",
              "      <td>3.000000</td>\n",
              "      <td>1.000000</td>\n",
              "      <td>2.000000</td>\n",
              "      <td>440.000000</td>\n",
              "      <td>126.000000</td>\n",
              "      <td>1970.000000</td>\n",
              "      <td>-37.802355</td>\n",
              "      <td>145.000100</td>\n",
              "      <td>6555.000000</td>\n",
              "    </tr>\n",
              "    <tr>\n",
              "      <th>75%</th>\n",
              "      <td>3.000000</td>\n",
              "      <td>1.330000e+06</td>\n",
              "      <td>13.000000</td>\n",
              "      <td>3148.000000</td>\n",
              "      <td>3.000000</td>\n",
              "      <td>2.000000</td>\n",
              "      <td>2.000000</td>\n",
              "      <td>651.000000</td>\n",
              "      <td>174.000000</td>\n",
              "      <td>1999.000000</td>\n",
              "      <td>-37.756400</td>\n",
              "      <td>145.058305</td>\n",
              "      <td>10331.000000</td>\n",
              "    </tr>\n",
              "    <tr>\n",
              "      <th>max</th>\n",
              "      <td>10.000000</td>\n",
              "      <td>9.000000e+06</td>\n",
              "      <td>48.100000</td>\n",
              "      <td>3977.000000</td>\n",
              "      <td>20.000000</td>\n",
              "      <td>8.000000</td>\n",
              "      <td>10.000000</td>\n",
              "      <td>433014.000000</td>\n",
              "      <td>44515.000000</td>\n",
              "      <td>2018.000000</td>\n",
              "      <td>-37.408530</td>\n",
              "      <td>145.526350</td>\n",
              "      <td>21650.000000</td>\n",
              "    </tr>\n",
              "  </tbody>\n",
              "</table>\n",
              "</div>"
            ],
            "text/plain": [
              "              Rooms         Price  ...    Longtitude  Propertycount\n",
              "count  13580.000000  1.358000e+04  ...  13580.000000   13580.000000\n",
              "mean       2.937997  1.075684e+06  ...    144.995216    7454.417378\n",
              "std        0.955748  6.393107e+05  ...      0.103916    4378.581772\n",
              "min        1.000000  8.500000e+04  ...    144.431810     249.000000\n",
              "25%        2.000000  6.500000e+05  ...    144.929600    4380.000000\n",
              "50%        3.000000  9.030000e+05  ...    145.000100    6555.000000\n",
              "75%        3.000000  1.330000e+06  ...    145.058305   10331.000000\n",
              "max       10.000000  9.000000e+06  ...    145.526350   21650.000000\n",
              "\n",
              "[8 rows x 13 columns]"
            ]
          },
          "metadata": {},
          "execution_count": 16
        }
      ]
    },
    {
      "cell_type": "code",
      "metadata": {
        "colab": {
          "base_uri": "https://localhost:8080/"
        },
        "id": "LaAfDtLd6Pwq",
        "outputId": "823b5b56-c6bc-4d35-8fa7-fbaebb1c318d"
      },
      "source": [
        "melbourne_data.columns"
      ],
      "execution_count": 20,
      "outputs": [
        {
          "output_type": "execute_result",
          "data": {
            "text/plain": [
              "Index(['Suburb', 'Address', 'Rooms', 'Type', 'Price', 'Method', 'SellerG',\n",
              "       'Date', 'Distance', 'Postcode', 'Bedroom2', 'Bathroom', 'Car',\n",
              "       'Landsize', 'BuildingArea', 'YearBuilt', 'CouncilArea', 'Lattitude',\n",
              "       'Longtitude', 'Regionname', 'Propertycount'],\n",
              "      dtype='object')"
            ]
          },
          "metadata": {},
          "execution_count": 20
        }
      ]
    },
    {
      "cell_type": "code",
      "metadata": {
        "id": "uJcwAZnS5UQH"
      },
      "source": [
        "# dropna drops missing values (think of na as \"not available\")\n",
        "melbourne_data = melbourne_data.dropna(axis=0)"
      ],
      "execution_count": 21,
      "outputs": []
    },
    {
      "cell_type": "code",
      "metadata": {
        "colab": {
          "base_uri": "https://localhost:8080/"
        },
        "id": "iVfIiRyn6rI3",
        "outputId": "494b7690-77e9-4ebc-e510-123c1106ffaa"
      },
      "source": [
        "y = melbourne_data.Price\n",
        "y.describe()"
      ],
      "execution_count": 23,
      "outputs": [
        {
          "output_type": "execute_result",
          "data": {
            "text/plain": [
              "count    6.196000e+03\n",
              "mean     1.068828e+06\n",
              "std      6.751564e+05\n",
              "min      1.310000e+05\n",
              "25%      6.200000e+05\n",
              "50%      8.800000e+05\n",
              "75%      1.325000e+06\n",
              "max      9.000000e+06\n",
              "Name: Price, dtype: float64"
            ]
          },
          "metadata": {},
          "execution_count": 23
        }
      ]
    },
    {
      "cell_type": "code",
      "metadata": {
        "id": "sWwF_TF65t8i"
      },
      "source": [
        "melbourne_features = {'Rooms', 'Bathroom', 'Landsize', 'Lattitude', 'Longtitude'}"
      ],
      "execution_count": 24,
      "outputs": []
    },
    {
      "cell_type": "code",
      "metadata": {
        "id": "Uhy2Atia52Fo"
      },
      "source": [
        "x = melbourne_data[melbourne_features]"
      ],
      "execution_count": 26,
      "outputs": []
    },
    {
      "cell_type": "code",
      "metadata": {
        "colab": {
          "base_uri": "https://localhost:8080/",
          "height": 297
        },
        "id": "vGGFGdLl7OoO",
        "outputId": "1cca03ba-b58f-4636-dbf7-64abca69a1a2"
      },
      "source": [
        "x.describe()"
      ],
      "execution_count": 27,
      "outputs": [
        {
          "output_type": "execute_result",
          "data": {
            "text/html": [
              "<div>\n",
              "<style scoped>\n",
              "    .dataframe tbody tr th:only-of-type {\n",
              "        vertical-align: middle;\n",
              "    }\n",
              "\n",
              "    .dataframe tbody tr th {\n",
              "        vertical-align: top;\n",
              "    }\n",
              "\n",
              "    .dataframe thead th {\n",
              "        text-align: right;\n",
              "    }\n",
              "</style>\n",
              "<table border=\"1\" class=\"dataframe\">\n",
              "  <thead>\n",
              "    <tr style=\"text-align: right;\">\n",
              "      <th></th>\n",
              "      <th>Landsize</th>\n",
              "      <th>Rooms</th>\n",
              "      <th>Lattitude</th>\n",
              "      <th>Bathroom</th>\n",
              "      <th>Longtitude</th>\n",
              "    </tr>\n",
              "  </thead>\n",
              "  <tbody>\n",
              "    <tr>\n",
              "      <th>count</th>\n",
              "      <td>6196.000000</td>\n",
              "      <td>6196.000000</td>\n",
              "      <td>6196.000000</td>\n",
              "      <td>6196.000000</td>\n",
              "      <td>6196.000000</td>\n",
              "    </tr>\n",
              "    <tr>\n",
              "      <th>mean</th>\n",
              "      <td>471.006940</td>\n",
              "      <td>2.931407</td>\n",
              "      <td>-37.807904</td>\n",
              "      <td>1.576340</td>\n",
              "      <td>144.990201</td>\n",
              "    </tr>\n",
              "    <tr>\n",
              "      <th>std</th>\n",
              "      <td>897.449881</td>\n",
              "      <td>0.971079</td>\n",
              "      <td>0.075850</td>\n",
              "      <td>0.711362</td>\n",
              "      <td>0.099165</td>\n",
              "    </tr>\n",
              "    <tr>\n",
              "      <th>min</th>\n",
              "      <td>0.000000</td>\n",
              "      <td>1.000000</td>\n",
              "      <td>-38.164920</td>\n",
              "      <td>1.000000</td>\n",
              "      <td>144.542370</td>\n",
              "    </tr>\n",
              "    <tr>\n",
              "      <th>25%</th>\n",
              "      <td>152.000000</td>\n",
              "      <td>2.000000</td>\n",
              "      <td>-37.855438</td>\n",
              "      <td>1.000000</td>\n",
              "      <td>144.926198</td>\n",
              "    </tr>\n",
              "    <tr>\n",
              "      <th>50%</th>\n",
              "      <td>373.000000</td>\n",
              "      <td>3.000000</td>\n",
              "      <td>-37.802250</td>\n",
              "      <td>1.000000</td>\n",
              "      <td>144.995800</td>\n",
              "    </tr>\n",
              "    <tr>\n",
              "      <th>75%</th>\n",
              "      <td>628.000000</td>\n",
              "      <td>4.000000</td>\n",
              "      <td>-37.758200</td>\n",
              "      <td>2.000000</td>\n",
              "      <td>145.052700</td>\n",
              "    </tr>\n",
              "    <tr>\n",
              "      <th>max</th>\n",
              "      <td>37000.000000</td>\n",
              "      <td>8.000000</td>\n",
              "      <td>-37.457090</td>\n",
              "      <td>8.000000</td>\n",
              "      <td>145.526350</td>\n",
              "    </tr>\n",
              "  </tbody>\n",
              "</table>\n",
              "</div>"
            ],
            "text/plain": [
              "           Landsize        Rooms    Lattitude     Bathroom   Longtitude\n",
              "count   6196.000000  6196.000000  6196.000000  6196.000000  6196.000000\n",
              "mean     471.006940     2.931407   -37.807904     1.576340   144.990201\n",
              "std      897.449881     0.971079     0.075850     0.711362     0.099165\n",
              "min        0.000000     1.000000   -38.164920     1.000000   144.542370\n",
              "25%      152.000000     2.000000   -37.855438     1.000000   144.926198\n",
              "50%      373.000000     3.000000   -37.802250     1.000000   144.995800\n",
              "75%      628.000000     4.000000   -37.758200     2.000000   145.052700\n",
              "max    37000.000000     8.000000   -37.457090     8.000000   145.526350"
            ]
          },
          "metadata": {},
          "execution_count": 27
        }
      ]
    },
    {
      "cell_type": "code",
      "metadata": {
        "colab": {
          "base_uri": "https://localhost:8080/",
          "height": 204
        },
        "id": "E0oGAaGu7ZY8",
        "outputId": "55e5c623-6b52-4c02-bdf6-7a30e7b567ff"
      },
      "source": [
        "x.head()"
      ],
      "execution_count": 28,
      "outputs": [
        {
          "output_type": "execute_result",
          "data": {
            "text/html": [
              "<div>\n",
              "<style scoped>\n",
              "    .dataframe tbody tr th:only-of-type {\n",
              "        vertical-align: middle;\n",
              "    }\n",
              "\n",
              "    .dataframe tbody tr th {\n",
              "        vertical-align: top;\n",
              "    }\n",
              "\n",
              "    .dataframe thead th {\n",
              "        text-align: right;\n",
              "    }\n",
              "</style>\n",
              "<table border=\"1\" class=\"dataframe\">\n",
              "  <thead>\n",
              "    <tr style=\"text-align: right;\">\n",
              "      <th></th>\n",
              "      <th>Landsize</th>\n",
              "      <th>Rooms</th>\n",
              "      <th>Lattitude</th>\n",
              "      <th>Bathroom</th>\n",
              "      <th>Longtitude</th>\n",
              "    </tr>\n",
              "  </thead>\n",
              "  <tbody>\n",
              "    <tr>\n",
              "      <th>1</th>\n",
              "      <td>156.0</td>\n",
              "      <td>2</td>\n",
              "      <td>-37.8079</td>\n",
              "      <td>1.0</td>\n",
              "      <td>144.9934</td>\n",
              "    </tr>\n",
              "    <tr>\n",
              "      <th>2</th>\n",
              "      <td>134.0</td>\n",
              "      <td>3</td>\n",
              "      <td>-37.8093</td>\n",
              "      <td>2.0</td>\n",
              "      <td>144.9944</td>\n",
              "    </tr>\n",
              "    <tr>\n",
              "      <th>4</th>\n",
              "      <td>120.0</td>\n",
              "      <td>4</td>\n",
              "      <td>-37.8072</td>\n",
              "      <td>1.0</td>\n",
              "      <td>144.9941</td>\n",
              "    </tr>\n",
              "    <tr>\n",
              "      <th>6</th>\n",
              "      <td>245.0</td>\n",
              "      <td>3</td>\n",
              "      <td>-37.8024</td>\n",
              "      <td>2.0</td>\n",
              "      <td>144.9993</td>\n",
              "    </tr>\n",
              "    <tr>\n",
              "      <th>7</th>\n",
              "      <td>256.0</td>\n",
              "      <td>2</td>\n",
              "      <td>-37.8060</td>\n",
              "      <td>1.0</td>\n",
              "      <td>144.9954</td>\n",
              "    </tr>\n",
              "  </tbody>\n",
              "</table>\n",
              "</div>"
            ],
            "text/plain": [
              "   Landsize  Rooms  Lattitude  Bathroom  Longtitude\n",
              "1     156.0      2   -37.8079       1.0    144.9934\n",
              "2     134.0      3   -37.8093       2.0    144.9944\n",
              "4     120.0      4   -37.8072       1.0    144.9941\n",
              "6     245.0      3   -37.8024       2.0    144.9993\n",
              "7     256.0      2   -37.8060       1.0    144.9954"
            ]
          },
          "metadata": {},
          "execution_count": 28
        }
      ]
    },
    {
      "cell_type": "code",
      "metadata": {
        "colab": {
          "base_uri": "https://localhost:8080/",
          "height": 204
        },
        "id": "A_LmI2sm7gEZ",
        "outputId": "815afd43-dce4-4de2-91b5-d3fc975b2ae4"
      },
      "source": [
        "x.tail()"
      ],
      "execution_count": 29,
      "outputs": [
        {
          "output_type": "execute_result",
          "data": {
            "text/html": [
              "<div>\n",
              "<style scoped>\n",
              "    .dataframe tbody tr th:only-of-type {\n",
              "        vertical-align: middle;\n",
              "    }\n",
              "\n",
              "    .dataframe tbody tr th {\n",
              "        vertical-align: top;\n",
              "    }\n",
              "\n",
              "    .dataframe thead th {\n",
              "        text-align: right;\n",
              "    }\n",
              "</style>\n",
              "<table border=\"1\" class=\"dataframe\">\n",
              "  <thead>\n",
              "    <tr style=\"text-align: right;\">\n",
              "      <th></th>\n",
              "      <th>Landsize</th>\n",
              "      <th>Rooms</th>\n",
              "      <th>Lattitude</th>\n",
              "      <th>Bathroom</th>\n",
              "      <th>Longtitude</th>\n",
              "    </tr>\n",
              "  </thead>\n",
              "  <tbody>\n",
              "    <tr>\n",
              "      <th>12205</th>\n",
              "      <td>972.0</td>\n",
              "      <td>3</td>\n",
              "      <td>-37.51232</td>\n",
              "      <td>2.0</td>\n",
              "      <td>145.13282</td>\n",
              "    </tr>\n",
              "    <tr>\n",
              "      <th>12206</th>\n",
              "      <td>179.0</td>\n",
              "      <td>3</td>\n",
              "      <td>-37.86558</td>\n",
              "      <td>1.0</td>\n",
              "      <td>144.90474</td>\n",
              "    </tr>\n",
              "    <tr>\n",
              "      <th>12207</th>\n",
              "      <td>0.0</td>\n",
              "      <td>1</td>\n",
              "      <td>-37.85588</td>\n",
              "      <td>1.0</td>\n",
              "      <td>144.89936</td>\n",
              "    </tr>\n",
              "    <tr>\n",
              "      <th>12209</th>\n",
              "      <td>0.0</td>\n",
              "      <td>2</td>\n",
              "      <td>-37.85581</td>\n",
              "      <td>1.0</td>\n",
              "      <td>144.99025</td>\n",
              "    </tr>\n",
              "    <tr>\n",
              "      <th>12212</th>\n",
              "      <td>1087.0</td>\n",
              "      <td>6</td>\n",
              "      <td>-37.81038</td>\n",
              "      <td>3.0</td>\n",
              "      <td>144.89389</td>\n",
              "    </tr>\n",
              "  </tbody>\n",
              "</table>\n",
              "</div>"
            ],
            "text/plain": [
              "       Landsize  Rooms  Lattitude  Bathroom  Longtitude\n",
              "12205     972.0      3  -37.51232       2.0   145.13282\n",
              "12206     179.0      3  -37.86558       1.0   144.90474\n",
              "12207       0.0      1  -37.85588       1.0   144.89936\n",
              "12209       0.0      2  -37.85581       1.0   144.99025\n",
              "12212    1087.0      6  -37.81038       3.0   144.89389"
            ]
          },
          "metadata": {},
          "execution_count": 29
        }
      ]
    },
    {
      "cell_type": "markdown",
      "metadata": {
        "id": "wm3LogLP7ozh"
      },
      "source": [
        "3. decision tree model"
      ]
    },
    {
      "cell_type": "code",
      "metadata": {
        "id": "l0xXg7CM7ulA"
      },
      "source": [
        "from sklearn.tree import DecisionTreeRegressor\n",
        "\n",
        "# Define model. Specify a number for random_state to ensure same result each run \n",
        "melbourne_model = DecisionTreeRegressor(random_state=1)"
      ],
      "execution_count": 30,
      "outputs": []
    },
    {
      "cell_type": "code",
      "metadata": {
        "colab": {
          "base_uri": "https://localhost:8080/"
        },
        "id": "-AsJVlAv77Kn",
        "outputId": "fdab38f0-7e09-497f-beed-de358886cd92"
      },
      "source": [
        "# Fit model\n",
        "melbourne_model.fit(x,y)"
      ],
      "execution_count": 31,
      "outputs": [
        {
          "output_type": "execute_result",
          "data": {
            "text/plain": [
              "DecisionTreeRegressor(ccp_alpha=0.0, criterion='mse', max_depth=None,\n",
              "                      max_features=None, max_leaf_nodes=None,\n",
              "                      min_impurity_decrease=0.0, min_impurity_split=None,\n",
              "                      min_samples_leaf=1, min_samples_split=2,\n",
              "                      min_weight_fraction_leaf=0.0, presort='deprecated',\n",
              "                      random_state=1, splitter='best')"
            ]
          },
          "metadata": {},
          "execution_count": 31
        }
      ]
    },
    {
      "cell_type": "code",
      "metadata": {
        "colab": {
          "base_uri": "https://localhost:8080/"
        },
        "id": "7kABL5Vw8AxP",
        "outputId": "44c14451-6d12-459a-a9c4-0a197cf6fd04"
      },
      "source": [
        "# Test the result on training data\n",
        "print(\"Making predictions for the following 5 houses:\")\n",
        "print(x.head())\n",
        "print(\"The predictions are\")\n",
        "print(melbourne_model.predict(x.head()))"
      ],
      "execution_count": 32,
      "outputs": [
        {
          "output_type": "stream",
          "name": "stdout",
          "text": [
            "Making predictions for the following 5 houses:\n",
            "   Landsize  Rooms  Lattitude  Bathroom  Longtitude\n",
            "1     156.0      2   -37.8079       1.0    144.9934\n",
            "2     134.0      3   -37.8093       2.0    144.9944\n",
            "4     120.0      4   -37.8072       1.0    144.9941\n",
            "6     245.0      3   -37.8024       2.0    144.9993\n",
            "7     256.0      2   -37.8060       1.0    144.9954\n",
            "The predictions are\n",
            "[1035000. 1465000. 1600000. 1876000. 1636000.]\n"
          ]
        }
      ]
    },
    {
      "cell_type": "markdown",
      "metadata": {
        "id": "crA3V6rE8hhX"
      },
      "source": [
        "4. model validation"
      ]
    },
    {
      "cell_type": "code",
      "metadata": {
        "colab": {
          "base_uri": "https://localhost:8080/"
        },
        "id": "kZsqFFPm8fIh",
        "outputId": "464c6961-5e70-496e-b3ad-6e7a2793259b"
      },
      "source": [
        "# Calculate the mean absolute error MSE:\n",
        "\n",
        "from sklearn.metrics import mean_absolute_error\n",
        "\n",
        "predicted_home_prices = melbourne_model.predict(x)\n",
        "mean_absolute_error(y, predicted_home_prices)"
      ],
      "execution_count": 33,
      "outputs": [
        {
          "output_type": "execute_result",
          "data": {
            "text/plain": [
              "1115.7467183128902"
            ]
          },
          "metadata": {},
          "execution_count": 33
        }
      ]
    },
    {
      "cell_type": "code",
      "metadata": {
        "id": "xdWnWeUc8-py"
      },
      "source": [
        "from sklearn.model_selection import train_test_split\n",
        "\n",
        "# split data into training and validation data, for both features and target\n",
        "# The split is based on a random number generator. Supplying a numeric value to \n",
        "# the random_state argument guarantees we get the same split every time we\n",
        "# run this script \n",
        "train_x, val_x, train_y, val_y = train_test_split(x, y, random_state = 0)"
      ],
      "execution_count": 35,
      "outputs": []
    },
    {
      "cell_type": "code",
      "metadata": {
        "colab": {
          "base_uri": "https://localhost:8080/"
        },
        "id": "ihoa-LT_9FN6",
        "outputId": "043df0be-2634-4e18-be04-3f164be4ae03"
      },
      "source": [
        "# Define model\n",
        "melbourne_model = DecisionTreeRegressor()\n",
        "# Fit Model\n",
        "melbourne_model.fit(train_x, train_y)"
      ],
      "execution_count": 36,
      "outputs": [
        {
          "output_type": "execute_result",
          "data": {
            "text/plain": [
              "DecisionTreeRegressor(ccp_alpha=0.0, criterion='mse', max_depth=None,\n",
              "                      max_features=None, max_leaf_nodes=None,\n",
              "                      min_impurity_decrease=0.0, min_impurity_split=None,\n",
              "                      min_samples_leaf=1, min_samples_split=2,\n",
              "                      min_weight_fraction_leaf=0.0, presort='deprecated',\n",
              "                      random_state=None, splitter='best')"
            ]
          },
          "metadata": {},
          "execution_count": 36
        }
      ]
    },
    {
      "cell_type": "code",
      "metadata": {
        "colab": {
          "base_uri": "https://localhost:8080/"
        },
        "id": "AVfIz53-9KOE",
        "outputId": "7d1ae015-b46e-4f9d-e38e-9ccd0f433c37"
      },
      "source": [
        "val_predictions = melbourne_model.predict(val_x)\n",
        "print(mean_absolute_error(val_y, val_predictions))"
      ],
      "execution_count": 37,
      "outputs": [
        {
          "output_type": "stream",
          "name": "stdout",
          "text": [
            "273959.2853453841\n"
          ]
        }
      ]
    },
    {
      "cell_type": "markdown",
      "metadata": {
        "id": "tJRhfCNi9dfC"
      },
      "source": [
        "5. underfitting & overfitting"
      ]
    },
    {
      "cell_type": "code",
      "metadata": {
        "id": "cjDF4cU89VeR"
      },
      "source": [
        "from sklearn.metrics import mean_absolute_error\n",
        "from sklearn.tree import DecisionTreeRegressor\n",
        "\n",
        "def get_mae(max_leaf_nodes, train_x, val_x, train_y, val_y):\n",
        "  model = DecisionTreeRegressor(max_leaf_nodes=max_leaf_nodes, random_state=0)\n",
        "  model.fit(train_x, train_y)\n",
        "  preds_val = model.predict(val_x)\n",
        "  mae = mean_absolute_error(val_y, preds_val)\n",
        "  return(mae)"
      ],
      "execution_count": 38,
      "outputs": []
    },
    {
      "cell_type": "code",
      "metadata": {
        "colab": {
          "base_uri": "https://localhost:8080/"
        },
        "id": "hboq0vts9k6J",
        "outputId": "6ada1c65-1e1b-40a3-f35e-b226da688ee2"
      },
      "source": [
        "# compare MAE with differing value of max_leaf_nodes\n",
        "for max_leaf_nodes in [5, 50, 500, 5000]:\n",
        "  my_mae = get_mae(max_leaf_nodes, train_x, val_x, train_y, val_y)\n",
        "  print(\"Max leaf nodes: %d \\t\\t Mean Absolute Error: %d\" %(max_leaf_nodes, my_mae))"
      ],
      "execution_count": 39,
      "outputs": [
        {
          "output_type": "stream",
          "name": "stdout",
          "text": [
            "Max leaf nodes: 5 \t\t Mean Absolute Error: 385696\n",
            "Max leaf nodes: 50 \t\t Mean Absolute Error: 279794\n",
            "Max leaf nodes: 500 \t\t Mean Absolute Error: 261718\n",
            "Max leaf nodes: 5000 \t\t Mean Absolute Error: 271996\n"
          ]
        }
      ]
    },
    {
      "cell_type": "markdown",
      "metadata": {
        "id": "BYQv9a129tMI"
      },
      "source": [
        "6. random forest model"
      ]
    },
    {
      "cell_type": "code",
      "metadata": {
        "colab": {
          "base_uri": "https://localhost:8080/"
        },
        "id": "BmMsq2lx-Brf",
        "outputId": "a534290d-eaf6-459e-dfbd-2f44181322f9"
      },
      "source": [
        "from sklearn.ensemble import RandomForestRegressor\n",
        "from sklearn.metrics import mean_absolute_error\n",
        "\n",
        "forest_model = RandomForestRegressor(random_state=1)\n",
        "forest_model.fit(train_x, train_y)\n",
        "melb_preds = forest_model.predict(val_x)\n",
        "print(mean_absolute_error(val_y, melb_preds))"
      ],
      "execution_count": 40,
      "outputs": [
        {
          "output_type": "stream",
          "name": "stdout",
          "text": [
            "207158.15042874566\n"
          ]
        }
      ]
    },
    {
      "cell_type": "code",
      "metadata": {
        "colab": {
          "base_uri": "https://localhost:8080/"
        },
        "id": "TO9dpt2V-Hz2",
        "outputId": "40c70ac0-55c1-4112-d0d4-e1b8eab4bdbd"
      },
      "source": [
        "print(\"Making Predictions for the following 10 houses:\")\n",
        "print(x.head(10))\n",
        "print(\"The predictions are\")\n",
        "print(forest_model.predict(x.head(10)))"
      ],
      "execution_count": 41,
      "outputs": [
        {
          "output_type": "stream",
          "name": "stdout",
          "text": [
            "Making Predictions for the following 10 houses:\n",
            "    Landsize  Rooms  Lattitude  Bathroom  Longtitude\n",
            "1      156.0      2   -37.8079       1.0    144.9934\n",
            "2      134.0      3   -37.8093       2.0    144.9944\n",
            "4      120.0      4   -37.8072       1.0    144.9941\n",
            "6      245.0      3   -37.8024       2.0    144.9993\n",
            "7      256.0      2   -37.8060       1.0    144.9954\n",
            "9      220.0      2   -37.8010       1.0    144.9989\n",
            "11     214.0      3   -37.8085       2.0    144.9964\n",
            "12       0.0      2   -37.8078       2.0    144.9965\n",
            "15     238.0      2   -37.8090       1.0    144.9976\n",
            "16     113.0      3   -37.8056       2.0    144.9930\n",
            "The predictions are\n",
            "[1041445.         1175056.66666667 1480450.         1753505.\n",
            " 1207230.         1115980.         1429970.          780220.\n",
            " 1121000.         1185765.        ]\n"
          ]
        }
      ]
    },
    {
      "cell_type": "code",
      "metadata": {
        "colab": {
          "base_uri": "https://localhost:8080/"
        },
        "id": "907FSshe-Plv",
        "outputId": "fe3a9e49-b9a4-46c4-f54a-3f8a0fac7aef"
      },
      "source": [
        "forest_model"
      ],
      "execution_count": 42,
      "outputs": [
        {
          "output_type": "execute_result",
          "data": {
            "text/plain": [
              "RandomForestRegressor(bootstrap=True, ccp_alpha=0.0, criterion='mse',\n",
              "                      max_depth=None, max_features='auto', max_leaf_nodes=None,\n",
              "                      max_samples=None, min_impurity_decrease=0.0,\n",
              "                      min_impurity_split=None, min_samples_leaf=1,\n",
              "                      min_samples_split=2, min_weight_fraction_leaf=0.0,\n",
              "                      n_estimators=100, n_jobs=None, oob_score=False,\n",
              "                      random_state=1, verbose=0, warm_start=False)"
            ]
          },
          "metadata": {},
          "execution_count": 42
        }
      ]
    }
  ]
}